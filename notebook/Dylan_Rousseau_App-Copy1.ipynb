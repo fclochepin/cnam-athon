{
 "cells": [
  {
   "cell_type": "markdown",
   "metadata": {},
   "source": [
    "# Scrapping\n",
    "\n",
    "Responsable : *Dylan Rousseau*\n",
    "\n",
    "### **Objet :**  \n",
    "....................................................\n",
    "<br/>    \n",
    "\n",
    "---  \n",
    "Historique des modifications : \n",
    "\n",
    "21/03/2022 : *Dylan ROUSSEAU* : *Création du script*<br/> \n",
    "\n",
    "---"
   ]
  },
  {
   "cell_type": "markdown",
   "metadata": {},
   "source": [
    "# Imports bibliothèques"
   ]
  },
  {
   "cell_type": "code",
   "execution_count": 11,
   "metadata": {},
   "outputs": [],
   "source": [
    "import math\n",
    "import numpy\n",
    "import pandas as pd\n",
    "import ipywidgets as widgets\n",
    "import IPython.display as ipd\n",
    "\n",
    "from bs4 import BeautifulSoup\n",
    "from pylab import specgram, show\n",
    "from IPython import display as audioD\n",
    "from requests_html import HTMLSession\n",
    "from moviepy.editor import AudioFileClip\n",
    "from IPython.display import display, clear_output, HTML, Markdown "
   ]
  },
  {
   "cell_type": "markdown",
   "metadata": {},
   "source": [
    "# Variables"
   ]
  },
  {
   "cell_type": "code",
   "execution_count": 12,
   "metadata": {},
   "outputs": [],
   "source": [
    "session   = HTMLSession()\n",
    "dataFrame = widgets.Output()\n",
    "audio     = widgets.Output()"
   ]
  },
  {
   "cell_type": "markdown",
   "metadata": {},
   "source": [
    "# Imports des datasources"
   ]
  },
  {
   "cell_type": "code",
   "execution_count": 13,
   "metadata": {},
   "outputs": [],
   "source": [
    "dfDicoBuch = pd.read_csv('../data/dfDicoBuch.csv')\n",
    "dfDicoBuch = dfDicoBuch[[\"motVedette\",\"nbSyll\",\"pron\",\"pronSampa\",\"ipa\"]]\n",
    "dfDicoBuch = dfDicoBuch.replace(numpy.nan, '', regex=True)"
   ]
  },
  {
   "cell_type": "markdown",
   "metadata": {},
   "source": [
    "# Widgets"
   ]
  },
  {
   "cell_type": "code",
   "execution_count": 14,
   "metadata": {},
   "outputs": [],
   "source": [
    "filtreHWD = widgets.Text(value=\"\",description='filtre hwd',layout={'width': '200px'} )\n",
    "filtreIPA = widgets.Text(value=\"\",description='filtre ipa',layout={'width': '200px'} )\n",
    "occMax    = widgets.IntSlider(min=0,max=10,step=1,description='Occ.Max:',value = 5)\n",
    "bouton    = widgets.Button(description='Démarrer', icon = \"check\")"
   ]
  },
  {
   "cell_type": "markdown",
   "metadata": {},
   "source": [
    "# Fonctions génériques"
   ]
  },
  {
   "cell_type": "code",
   "execution_count": 15,
   "metadata": {},
   "outputs": [],
   "source": [
    "def search_ldoceonline_mp3(dfEtudie):\n",
    "    \n",
    "    listLinknUK = []\n",
    "    listLinknUS = []\n",
    "    \n",
    "    for word in dfEtudie[\"motVedette\"] :\n",
    "\n",
    "        # On créé le lien URL\n",
    "        urlTarget = \"https://www.ldoceonline.com/dictionary/\" + word\n",
    "        response  = session.get(urlTarget)\n",
    "        if response.status_code == 200:\n",
    "            html_doc  = response.content\n",
    "            structure = BeautifulSoup(response.text,'html.parser')\n",
    "            checkBody = structure.find('body')\n",
    "            checkDico = checkBody.findAll('div',{\"class\":\"dictionary\"})\n",
    "            for x in checkDico:\n",
    "                mpsUK = x.findAll('span',{\"class\":\"speaker brefile fas fa-volume-up hideOnAmp\"})\n",
    "            for y in mpsUK:\n",
    "                linkUK = y['data-src-mp3']\n",
    "            checkLinkUK = linkUK.replace(linkUK[-15:],\"\")\n",
    "            listLinknUK.append(checkLinkUK)\n",
    "\n",
    "            for x in checkDico:\n",
    "                mpsUS = x.findAll('span',{\"class\":\"speaker amefile fas fa-volume-up hideOnAmp\"})\n",
    "            for y in mpsUS:\n",
    "                linkUS = y['data-src-mp3']\n",
    "            checkLinkUS = linkUS.replace(linkUS[-15:],\"\")\n",
    "            listLinknUS.append(checkLinkUS)\n",
    "        else:\n",
    "            print('NUL')\n",
    "    dfEtudie[\"linkUK\"] = pd.Series(listLinknUK).values\n",
    "    dfEtudie[\"linkUS\"] = pd.Series(listLinknUS).values\n",
    "        \n",
    "        \n",
    "    return dfEtudie"
   ]
  },
  {
   "cell_type": "code",
   "execution_count": 16,
   "metadata": {},
   "outputs": [],
   "source": [
    "def creaAudio(dfEtudie):\n",
    "    clear_output()\n",
    "    listeWid = widgets.Output()\n",
    "    lU = widgets.Output()\n",
    "\n",
    "    for numLigne in range(len(dfEtudie)):\n",
    "\n",
    "        labelUK = widgets.Label(\"Brit\")\n",
    "        itemsUK = audioD.Audio(url = dfEtudie[\"linkUK\"][numLigne])\n",
    "        spectroUK = dfEtudie[\"linkUK\"][numLigne]\n",
    "        \n",
    "        labelUS = widgets.Label(\"Amer\")\n",
    "        itemsUS = audioD.Audio(url = dfEtudie[\"linkUS\"][numLigne])\n",
    "        spectroUS = dfEtudie[\"linkUS\"][numLigne]\n",
    "        \n",
    "        audioUK = widgets.Output()\n",
    "        audioUK.append_display_data(itemsUK)\n",
    "        \n",
    "        audioUS = widgets.Output()\n",
    "        audioUS.append_display_data(itemsUS)\n",
    "\n",
    "        lU = widgets.HBox([labelUK,audioUK,labelUS,audioUS])\n",
    "\n",
    "        labelMot = widgets.Label(dfEtudie[\"motVedette\"][numLigne])\n",
    "        labelPron = widgets.Label(str(dfEtudie[\"pron\"][numLigne]))\n",
    "        label = widgets.HBox([labelMot, labelPron])\n",
    "\n",
    "        listeWid.append_display_data(widgets.VBox([label,lU]))\n",
    "        spectro(spectroUK,spectroUS)\n",
    "        \n",
    "    return listeWid"
   ]
  },
  {
   "cell_type": "code",
   "execution_count": 17,
   "metadata": {},
   "outputs": [],
   "source": [
    "def spectro(linkUK,linkUS):\n",
    "    \n",
    "    audioLinkUK = AudioFileClip(linkUK)\n",
    "    sound_arrayUK = audioLinkUK.to_soundarray()\n",
    "    resultSpecto = specgram(sound_arrayUK[:,0])\n",
    "    show()\n",
    "    audioLinkUK = AudioFileClip(linkUS)\n",
    "    sound_arrayUK = audioLinkUK.to_soundarray()\n",
    "    resultSpecto = specgram(sound_arrayUK[:,0])\n",
    "    show()"
   ]
  },
  {
   "cell_type": "code",
   "execution_count": 18,
   "metadata": {},
   "outputs": [],
   "source": [
    "def on_button_clicked(_):\n",
    "    nbLigne = occMax.value\n",
    "    HWD = filtreHWD.value \n",
    "    IPA = filtreIPA.value\n",
    "    dfEtudie = \"\"\n",
    "\n",
    "    with dataFrame:\n",
    "        clear_output()\n",
    "        # Filtre en fontion des variables précédentes \n",
    "        if (HWD != \"\"):\n",
    "            dfEtudie = dfDicoBuch[(dfDicoBuch.motVedette.str.match(HWD))]\n",
    "            if(IPA != \"\"):\n",
    "                dfEtudie = dfEtudie[(dfEtudie.pron.str.match(IPA))]\n",
    "        elif (IPA != \"\"):\n",
    "            dfEtudie = dfDicoBuch[(dfDicoBuch.pron.str.match(IPA))]\n",
    "\n",
    "        if(len(dfEtudie) > nbLigne):\n",
    "            dfEtudie = dfEtudie.sample(n=nbLigne).copy()\n",
    "        dfEtudie = dfEtudie.reset_index()    \n",
    "        # On affiche\n",
    "        display(dfEtudie)\n",
    "        \n",
    "    with audio :\n",
    "        clear_output()\n",
    "        dfEtudie = search_ldoceonline_mp3(dfEtudie)  \n",
    "        \n",
    "        listeAudio = creaAudio(dfEtudie) \n",
    "        display(listeAudio)\n",
    "        \n",
    "            \n",
    "bouton.on_click(on_button_clicked)"
   ]
  },
  {
   "cell_type": "markdown",
   "metadata": {},
   "source": [
    "# Start layout "
   ]
  },
  {
   "cell_type": "code",
   "execution_count": 19,
   "metadata": {},
   "outputs": [],
   "source": [
    "ligne1 = widgets.HBox([filtreHWD, filtreIPA, occMax, bouton])\n",
    "ligne2 = widgets.HBox([dataFrame])\n",
    "ligne3 = widgets.HBox([audio])\n",
    "\n",
    "result = widgets.VBox([ligne1, ligne2, ligne3])"
   ]
  },
  {
   "cell_type": "markdown",
   "metadata": {},
   "source": [
    "# Lancement de l'appli"
   ]
  },
  {
   "cell_type": "code",
   "execution_count": 20,
   "metadata": {
    "scrolled": true
   },
   "outputs": [
    {
     "data": {
      "application/vnd.jupyter.widget-view+json": {
       "model_id": "fb9d0056fec34e3280289443ea59cec5",
       "version_major": 2,
       "version_minor": 0
      },
      "text/plain": [
       "VBox(children=(HBox(children=(Text(value='', description='filtre hwd', layout=Layout(width='200px')), Text(val…"
      ]
     },
     "metadata": {},
     "output_type": "display_data"
    }
   ],
   "source": [
    "result"
   ]
  },
  {
   "cell_type": "code",
   "execution_count": null,
   "metadata": {},
   "outputs": [],
   "source": []
  },
  {
   "cell_type": "code",
   "execution_count": null,
   "metadata": {},
   "outputs": [],
   "source": []
  }
 ],
 "metadata": {
  "kernelspec": {
   "display_name": "Python 3",
   "language": "python",
   "name": "python3"
  },
  "language_info": {
   "codemirror_mode": {
    "name": "ipython",
    "version": 3
   },
   "file_extension": ".py",
   "mimetype": "text/x-python",
   "name": "python",
   "nbconvert_exporter": "python",
   "pygments_lexer": "ipython3",
   "version": "3.9.1"
  }
 },
 "nbformat": 4,
 "nbformat_minor": 4
}
