{
 "cells": [
  {
   "cell_type": "code",
   "metadata": {
    "tags": [],
    "cell_id": "ad0538a9-d9c3-46ac-bbd3-4a037acded35",
    "deepnote_to_be_reexecuted": false,
    "source_hash": "ca103765",
    "execution_start": 1643200713561,
    "execution_millis": 366,
    "deepnote_cell_type": "code"
   },
   "source": "import requests \nfrom bs4 import BeautifulSoup \nimport pandas as pd",
   "outputs": [],
   "execution_count": null
  },
  {
   "cell_type": "code",
   "metadata": {
    "cell_id": "9e0d3d7e-b19a-4d60-9c3e-e59ae36bdf49",
    "tags": [],
    "deepnote_to_be_reexecuted": false,
    "source_hash": "5539e38f",
    "execution_start": 1643203453990,
    "execution_millis": 2,
    "deepnote_cell_type": "code"
   },
   "source": "#Fonction qui sera appelée pour chaque éléments récupérés\ndef transform(x):\n    #Si c'est une POS, on retourne la valeur textuelle de la balise\n    if x.attrs[\"class\"][0] == \"tag_wordtype\": return x.text[0] + \".\"\n    #Si c'est un word, on retourne la valeur textuelle de la balise\n    if x.attrs[\"class\"][0] == \"dictLink\": return x.text\n    #Si c'est un audio, on va récupérer toutes les valeurs dans un dict\n    if x.attrs[\"class\"][0] == \"audio\": \n        #On créé un dictionnaire qui contiendra en clé la langue et en valeur le lien mp3\n        dictResult = {}\n        #Traitement textuel pour récupérer le lien du mp3\n        value = x.attrs[\"onclick\"].split(\",\")[1:]\n        value[-1] = value[-1][:-2]\n        for i in range(0, len(value), 2):\n            dictResult[value[i+1][1:-1]] = \"https://www.linguee.fr/mp3/\" + value[i][1:-1] + \".mp3\"\n        return dictResult",
   "outputs": [],
   "execution_count": null
  },
  {
   "cell_type": "code",
   "metadata": {
    "cell_id": "e045d992-7adf-4254-a497-8b6e96b45907",
    "tags": [],
    "deepnote_to_be_reexecuted": false,
    "source_hash": "3ce1e4ba",
    "execution_start": 1643203455368,
    "execution_millis": 0,
    "deepnote_cell_type": "code"
   },
   "source": "def getWord(word):\n    listAllWords = []\n    #On effectue la requête sur le site\n    response = requests.get(\"https://www.linguee.fr/anglais-francais/traduction/\" + word + \".html\") \n    soup = BeautifulSoup(response.text,'html.parser')\n    soupListh2 = soup.findAll('h2',{\"class\":\"lemma_desc\"})\n    #Pour tous les élements h2   \n    for h2 in soupListh2:\n        #On récupère tous les éléments de type lien et du wordType\n        link = h2.findAll(\"a\")\n        pos = h2.findAll('span', {\"class\": \"tag_wordtype\"})\n        link = link + pos\n        if len(link) >= 3:\n            #On applique la transformation pour récupèrer les valeurs propres\n            listWord = list(map(lambda x: transform(x), link))\n            listAllWords.append([i for i in listWord if i])\n    #On retourne un dataframe\n    return pd.DataFrame(listAllWords, columns =['Word', 'Sound', 'Pos'])",
   "outputs": [],
   "execution_count": null
  },
  {
   "cell_type": "code",
   "metadata": {
    "cell_id": "2c8e461d-f897-4b31-9678-b431883d8b81",
    "tags": [],
    "deepnote_to_be_reexecuted": false,
    "source_hash": "ee953baf",
    "execution_start": 1643203456950,
    "execution_millis": 684,
    "deepnote_output_heights": [
     232.25,
     117.125
    ],
    "deepnote_cell_type": "code"
   },
   "source": "getWord(\"beat\")",
   "outputs": [
    {
     "output_type": "execute_result",
     "execution_count": 48,
     "data": {
      "application/vnd.deepnote.dataframe.v3+json": {
       "column_count": 3,
       "row_count": 3,
       "columns": [
        {
         "name": "Word",
         "dtype": "object",
         "stats": {
          "unique_count": 1,
          "nan_count": 0,
          "categories": [
           {
            "name": "beat",
            "count": 3
           }
          ]
         }
        },
        {
         "name": "Sound",
         "dtype": "object",
         "stats": {
          "unique_count": 3,
          "nan_count": 0,
          "categories": [
           {
            "name": "{'anglais américain': 'https://www.linguee.fr/mp3/EN_US/ed/ed6966981beb595bd0a50e4371805dec-200.mp3', 'anglais britannique': 'https://www.linguee.fr/mp3/EN_UK/ed/ed6966981beb595bd0a50e4371805dec-200.mp3'}",
            "count": 1
           },
           {
            "name": "{'anglais américain': 'https://www.linguee.fr/mp3/EN_US/ed/ed6966981beb595bd0a50e4371805dec-101.mp3', 'anglais britannique': 'https://www.linguee.fr/mp3/EN_UK/ed/ed6966981beb595bd0a50e4371805dec-101.mp3'}",
            "count": 1
           },
           {
            "name": "{'anglais américain': 'https://www.linguee.fr/mp3/EN_US/ed/ed6966981beb595bd0a50e4371805dec-300.mp3', 'anglais britannique': 'https://www.linguee.fr/mp3/EN_UK/ed/ed6966981beb595bd0a50e4371805dec-300.mp3'}",
            "count": 1
           }
          ]
         }
        },
        {
         "name": "Pos",
         "dtype": "object",
         "stats": {
          "unique_count": 3,
          "nan_count": 0,
          "categories": [
           {
            "name": "v.",
            "count": 1
           },
           {
            "name": "n.",
            "count": 1
           },
           {
            "name": "a.",
            "count": 1
           }
          ]
         }
        },
        {
         "name": "_deepnote_index_column",
         "dtype": "int64"
        }
       ],
       "rows": [
        {
         "Word": "beat",
         "Sound": "{'anglais américain': 'https://www.linguee.fr/mp3/EN_US/ed/ed6966981beb595bd0a50e4371805dec-200.mp3…",
         "Pos": "v.",
         "_deepnote_index_column": 0
        },
        {
         "Word": "beat",
         "Sound": "{'anglais américain': 'https://www.linguee.fr/mp3/EN_US/ed/ed6966981beb595bd0a50e4371805dec-101.mp3…",
         "Pos": "n.",
         "_deepnote_index_column": 1
        },
        {
         "Word": "beat",
         "Sound": "{'anglais américain': 'https://www.linguee.fr/mp3/EN_US/ed/ed6966981beb595bd0a50e4371805dec-300.mp3…",
         "Pos": "a.",
         "_deepnote_index_column": 2
        }
       ]
      },
      "text/plain": "   Word                                              Sound Pos\n0  beat  {'anglais américain': 'https://www.linguee.fr/...  v.\n1  beat  {'anglais américain': 'https://www.linguee.fr/...  n.\n2  beat  {'anglais américain': 'https://www.linguee.fr/...  a.",
      "text/html": "<div>\n<style scoped>\n    .dataframe tbody tr th:only-of-type {\n        vertical-align: middle;\n    }\n\n    .dataframe tbody tr th {\n        vertical-align: top;\n    }\n\n    .dataframe thead th {\n        text-align: right;\n    }\n</style>\n<table border=\"1\" class=\"dataframe\">\n  <thead>\n    <tr style=\"text-align: right;\">\n      <th></th>\n      <th>Word</th>\n      <th>Sound</th>\n      <th>Pos</th>\n    </tr>\n  </thead>\n  <tbody>\n    <tr>\n      <th>0</th>\n      <td>beat</td>\n      <td>{'anglais américain': 'https://www.linguee.fr/...</td>\n      <td>v.</td>\n    </tr>\n    <tr>\n      <th>1</th>\n      <td>beat</td>\n      <td>{'anglais américain': 'https://www.linguee.fr/...</td>\n      <td>n.</td>\n    </tr>\n    <tr>\n      <th>2</th>\n      <td>beat</td>\n      <td>{'anglais américain': 'https://www.linguee.fr/...</td>\n      <td>a.</td>\n    </tr>\n  </tbody>\n</table>\n</div>"
     },
     "metadata": {}
    }
   ],
   "execution_count": null
  },
  {
   "cell_type": "markdown",
   "source": "<a style='text-decoration:none;line-height:16px;display:flex;color:#5B5B62;padding:10px;justify-content:end;' href='https://deepnote.com?utm_source=created-in-deepnote-cell&projectId=28a13d76-245b-4e36-8dd1-db1382e81cfa' target=\"_blank\">\n<img alt='Created in deepnote.com' style='display:inline;max-height:16px;margin:0px;margin-right:7.5px;' src='data:image/svg+xml;base64,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' > </img>\nCreated in <span style='font-weight:600;margin-left:4px;'>Deepnote</span></a>",
   "metadata": {
    "tags": [],
    "created_in_deepnote_cell": true,
    "deepnote_cell_type": "markdown"
   }
  }
 ],
 "nbformat": 4,
 "nbformat_minor": 2,
 "metadata": {
  "orig_nbformat": 2,
  "deepnote": {
   "is_reactive": false
  },
  "deepnote_notebook_id": "111b9154-9ec7-445b-91fc-3f95b10d2ba5",
  "deepnote_execution_queue": []
 }
}