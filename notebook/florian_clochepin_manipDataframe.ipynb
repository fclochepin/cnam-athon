{
 "cells": [
  {
   "cell_type": "code",
   "execution_count": null,
   "metadata": {
    "cell_id": "896e0c17-7e48-4f44-8b1c-ad96494417fb",
    "deepnote_cell_type": "code",
    "deepnote_to_be_reexecuted": false,
    "execution_millis": 0,
    "execution_start": 1643209411658,
    "source_hash": "dd6037b2",
    "tags": []
   },
   "outputs": [],
   "source": [
    "import pandas as pd\n",
    "import difflib"
   ]
  },
  {
   "cell_type": "code",
   "execution_count": null,
   "metadata": {
    "cell_id": "b334f7a7-72cb-4a15-bbd6-f164105de1cd",
    "deepnote_cell_type": "code",
    "deepnote_to_be_reexecuted": false,
    "execution_millis": 33,
    "execution_start": 1643205409016,
    "source_hash": "321fef90",
    "tags": []
   },
   "outputs": [],
   "source": [
    "dfDicoBuch = pd.read_csv(\"1757_Buchanan-J.csv\" , delimiter=\";\", encoding=\"utf8\")\n",
    "pronChar = pd.read_csv(\"Buchanan_PronChar_counts.csv\", delimiter=\";\", encoding=\"utf8\").dropna()"
   ]
  },
  {
   "cell_type": "code",
   "execution_count": null,
   "metadata": {
    "cell_id": "add0042b-7f90-47d4-bd37-66b335091549",
    "deepnote_cell_type": "code",
    "deepnote_to_be_reexecuted": false,
    "execution_millis": 1,
    "execution_start": 1643206383601,
    "source_hash": "c4d3de53",
    "tags": []
   },
   "outputs": [],
   "source": [
    "#Transformation qui permet de rechercher la correspondance des lettres de Buchanan\n",
    "def traduction(text):\n",
    "    newWord = \"\"\n",
    "    for eachLetter in text:\n",
    "        if pronChar[\"char\"].isin([eachLetter]).any():\n",
    "            newWord += pronChar.loc[pronChar[\"char\"] == eachLetter][\"graph\"].item()\n",
    "    return newWord"
   ]
  },
  {
   "cell_type": "markdown",
   "metadata": {
    "cell_id": "3ee0b0d0-e304-4677-bd06-8e2132c99db6",
    "deepnote_cell_type": "markdown",
    "tags": []
   },
   "source": [
    "Création de la colonne motVedette grâce à la fonction de traduction établie précédemment"
   ]
  },
  {
   "cell_type": "code",
   "execution_count": null,
   "metadata": {
    "cell_id": "31f7f50c-5971-4799-b998-713c0fda6581",
    "deepnote_cell_type": "code",
    "deepnote_output_heights": [
     117.125,
     117.125
    ],
    "deepnote_to_be_reexecuted": false,
    "execution_millis": 122128,
    "execution_start": 1643206459233,
    "source_hash": "ad73ea16",
    "tags": []
   },
   "outputs": [],
   "source": [
    "dfDicoBuch[\"motVedette\"] = dfDicoBuch.apply(lambda x: traduction(x['pron']),1)"
   ]
  },
  {
   "cell_type": "code",
   "execution_count": null,
   "metadata": {
    "cell_id": "4bf72123-c409-47a2-9c77-3e8453f90a34",
    "deepnote_cell_type": "code",
    "deepnote_to_be_reexecuted": false,
    "execution_millis": 3231,
    "execution_start": 1643206820889,
    "source_hash": "9dffa9c2",
    "tags": []
   },
   "outputs": [],
   "source": [
    "dicoBigi = dfDicoBigi = pd.read_csv(\"2015_Bigi-B.dict\", delimiter=\" \\[\\] \", encoding=\"utf8\", engine='python', names=['word','sampa'], skiprows=8 )\n",
    "dfMappingSampaIpa = pd.read_csv(\"sampa-ipa.txt\", delimiter=\"  *\", encoding=\"utf8\", engine='python', names=['sampa','ipa'])\n",
    "dfMappingSampaIpa.drop_duplicates(subset=['sampa'], keep='first', inplace=True) "
   ]
  },
  {
   "cell_type": "markdown",
   "metadata": {
    "cell_id": "8cb19759-b682-4750-900a-89ca5246057c",
    "deepnote_cell_type": "markdown",
    "tags": []
   },
   "source": [
    "Fonction de traduction du Sampa à l'IPA qui sera appelée pour tout le dictionnaire Bigi"
   ]
  },
  {
   "cell_type": "code",
   "execution_count": null,
   "metadata": {
    "cell_id": "c3cde3cf-07a1-4552-9a75-d8839f3752dd",
    "deepnote_cell_type": "code",
    "deepnote_to_be_reexecuted": false,
    "execution_millis": 1,
    "execution_start": 1643206838857,
    "source_hash": "df83b53c",
    "tags": []
   },
   "outputs": [],
   "source": [
    "def sampa2ipa(strSampa, dfMapping):\n",
    "    ipaRes = \"\"\n",
    "    \n",
    "    listValSampa = strSampa.split(\" \")\n",
    "    #print(listValSampa)\n",
    "    for valSampa in listValSampa:\n",
    "        dfRowFinded = dfMapping[dfMapping['sampa']==valSampa]\n",
    "\n",
    "        if len(dfRowFinded==1):\n",
    "            ipaRes+=dfRowFinded.iloc[0]['ipa']\n",
    "        else:\n",
    "            ipaRes+='?'\n",
    "    return ipaRes"
   ]
  },
  {
   "cell_type": "markdown",
   "metadata": {
    "cell_id": "48b48d86-4f95-486e-8fcf-ad13fcd3a7ec",
    "deepnote_cell_type": "markdown",
    "tags": []
   },
   "source": [
    "On ajoute la colonne IPA au dictionnaire Bigi"
   ]
  },
  {
   "cell_type": "code",
   "execution_count": null,
   "metadata": {
    "cell_id": "24fd3764-4ffe-44e7-a721-d9d7329c6990",
    "deepnote_cell_type": "code",
    "deepnote_output_heights": [
     21.1875
    ],
    "deepnote_to_be_reexecuted": false,
    "execution_millis": 883758,
    "execution_start": 1643206884570,
    "source_hash": "eaf2fea9",
    "tags": []
   },
   "outputs": [],
   "source": [
    "dicoBigi['ipa'] = dicoBigi.apply(lambda x: sampa2ipa(x['sampa'], dfMappingSampaIpa),1)"
   ]
  },
  {
   "cell_type": "code",
   "execution_count": null,
   "metadata": {
    "cell_id": "629d5f3b-0f99-462f-8cb4-1274fd999396",
    "deepnote_cell_type": "code",
    "deepnote_to_be_reexecuted": false,
    "execution_millis": 541,
    "execution_start": 1643208918969,
    "source_hash": "567d96e9",
    "tags": []
   },
   "outputs": [
    {
     "data": {
      "application/vnd.deepnote.dataframe.v3+json": {
       "column_count": 12,
       "columns": [
        {
         "dtype": "int64",
         "name": "nbSyll",
         "stats": {
          "histogram": [
           {
            "bin_end": 1.7,
            "bin_start": 1,
            "count": 389
           },
           {
            "bin_end": 2.4,
            "bin_start": 1.7,
            "count": 1669
           },
           {
            "bin_end": 3.0999999999999996,
            "bin_start": 2.4,
            "count": 1691
           },
           {
            "bin_end": 3.8,
            "bin_start": 3.0999999999999996,
            "count": 0
           },
           {
            "bin_end": 4.5,
            "bin_start": 3.8,
            "count": 1039
           },
           {
            "bin_end": 5.199999999999999,
            "bin_start": 4.5,
            "count": 534
           },
           {
            "bin_end": 5.8999999999999995,
            "bin_start": 5.199999999999999,
            "count": 0
           },
           {
            "bin_end": 6.6,
            "bin_start": 5.8999999999999995,
            "count": 124
           },
           {
            "bin_end": 7.3,
            "bin_start": 6.6,
            "count": 20
           },
           {
            "bin_end": 8,
            "bin_start": 7.3,
            "count": 1
           }
          ],
          "max": "8",
          "min": "1",
          "nan_count": 0,
          "unique_count": 8
         }
        },
        {
         "dtype": "object",
         "name": "pron",
         "stats": {
          "categories": [
           {
            "count": 2,
            "name": "cȯu̇nt"
           },
           {
            "count": 2,
            "name": "vĕʹrĭly"
           },
           {
            "count": 5463,
            "name": "5463 others"
           }
          ],
          "nan_count": 0,
          "unique_count": 5465
         }
        },
        {
         "dtype": "object",
         "name": "origin",
         "stats": {
          "categories": [
           {
            "count": 995,
            "name": "L."
           },
           {
            "count": 875,
            "name": "2 others"
           },
           {
            "count": 3597,
            "name": "Missing"
           }
          ],
          "nan_count": 3597,
          "unique_count": 3
         }
        },
        {
         "dtype": "object",
         "name": "warning",
         "stats": {
          "categories": [
           {
            "count": 144,
            "name": "nbSyll>1 et pas d'accent tonic"
           },
           {
            "count": 5323,
            "name": "Missing"
           }
          ],
          "nan_count": 5323,
          "unique_count": 1
         }
        },
        {
         "dtype": "object",
         "name": "remarques",
         "stats": {
          "categories": [
           {
            "count": 23,
            "name": "Aide à la {pron}."
           },
           {
            "count": 10,
            "name": "5 others"
           },
           {
            "count": 5434,
            "name": "Missing"
           }
          ],
          "nan_count": 5434,
          "unique_count": 6
         }
        },
        {
         "dtype": "object",
         "name": "POS",
         "stats": {
          "categories": [
           {
            "count": 3523,
            "name": "n."
           },
           {
            "count": 1940,
            "name": "4 others"
           },
           {
            "count": 4,
            "name": "Missing"
           }
          ],
          "nan_count": 4,
          "unique_count": 5
         }
        },
        {
         "dtype": "float64",
         "name": "lineId",
         "stats": {
          "histogram": [
           {
            "bin_end": 9.2,
            "bin_start": 2,
            "count": 684
           },
           {
            "bin_end": 16.4,
            "bin_start": 9.2,
            "count": 562
           },
           {
            "bin_end": 23.6,
            "bin_start": 16.4,
            "count": 538
           },
           {
            "bin_end": 30.8,
            "bin_start": 23.6,
            "count": 563
           },
           {
            "bin_end": 38,
            "bin_start": 30.8,
            "count": 511
           },
           {
            "bin_end": 45.2,
            "bin_start": 38,
            "count": 610
           },
           {
            "bin_end": 52.4,
            "bin_start": 45.2,
            "count": 524
           },
           {
            "bin_end": 59.6,
            "bin_start": 52.4,
            "count": 532
           },
           {
            "bin_end": 66.8,
            "bin_start": 59.6,
            "count": 484
           },
           {
            "bin_end": 74,
            "bin_start": 66.8,
            "count": 459
           }
          ],
          "max": "74.0",
          "min": "2.0",
          "nan_count": 0,
          "unique_count": 73
         }
        },
        {
         "dtype": "int64",
         "name": "pageId",
         "stats": {
          "histogram": [
           {
            "bin_end": 41.2,
            "bin_start": 19,
            "count": 509
           },
           {
            "bin_end": 63.4,
            "bin_start": 41.2,
            "count": 514
           },
           {
            "bin_end": 85.6,
            "bin_start": 63.4,
            "count": 485
           },
           {
            "bin_end": 107.8,
            "bin_start": 85.6,
            "count": 551
           },
           {
            "bin_end": 130,
            "bin_start": 107.8,
            "count": 510
           },
           {
            "bin_end": 152.2,
            "bin_start": 130,
            "count": 595
           },
           {
            "bin_end": 174.4,
            "bin_start": 152.2,
            "count": 546
           },
           {
            "bin_end": 196.6,
            "bin_start": 174.4,
            "count": 522
           },
           {
            "bin_end": 218.79999999999998,
            "bin_start": 196.6,
            "count": 541
           },
           {
            "bin_end": 241,
            "bin_start": 218.79999999999998,
            "count": 694
           }
          ],
          "max": "241",
          "min": "19",
          "nan_count": 0,
          "unique_count": 222
         }
        },
        {
         "dtype": "object",
         "name": "motVedette",
         "stats": {
          "categories": [
           {
            "count": 2,
            "name": "barricado"
           },
           {
            "count": 2,
            "name": "couont"
           },
           {
            "count": 5463,
            "name": "5461 others"
           }
          ],
          "nan_count": 0,
          "unique_count": 5463
         }
        },
        {
         "dtype": "object",
         "name": "word",
         "stats": {
          "categories": [
           {
            "count": 5467,
            "name": "Missing"
           }
          ],
          "nan_count": 5467,
          "unique_count": 0
         }
        },
        {
         "dtype": "object",
         "name": "sampa",
         "stats": {
          "categories": [
           {
            "count": 5467,
            "name": "Missing"
           }
          ],
          "nan_count": 5467,
          "unique_count": 0
         }
        },
        {
         "dtype": "object",
         "name": "ipa",
         "stats": {
          "categories": [
           {
            "count": 5467,
            "name": "Missing"
           }
          ],
          "nan_count": 5467,
          "unique_count": 0
         }
        },
        {
         "dtype": "int64",
         "name": "_deepnote_index_column"
        }
       ],
       "row_count": 5467,
       "rows": [
        {
         "POS": "p.",
         "_deepnote_index_column": 1,
         "ipa": "nan",
         "lineId": 3,
         "motVedette": "abaft",
         "nbSyll": 2,
         "origin": "nan",
         "pageId": 19,
         "pron": "ăbăʹft",
         "remarques": "nan",
         "sampa": "nan",
         "warning": "nan",
         "word": "nan"
        },
        {
         "POS": "n.",
         "_deepnote_index_column": 2,
         "ipa": "nan",
         "lineId": 4,
         "motVedette": "abaisance",
         "nbSyll": 3,
         "origin": "F.",
         "pageId": 19,
         "pron": "ăbaiʹſănce",
         "remarques": "nan",
         "sampa": "nan",
         "warning": "nan",
         "word": "nan"
        },
        {
         "POS": "v.",
         "_deepnote_index_column": 5,
         "ipa": "nan",
         "lineId": 7,
         "motVedette": "abase",
         "nbSyll": 2,
         "origin": "F.",
         "pageId": 19,
         "pron": "ăbāsʹe",
         "remarques": "nan",
         "sampa": "nan",
         "warning": "nan",
         "word": "nan"
        },
        {
         "POS": "n.",
         "_deepnote_index_column": 6,
         "ipa": "nan",
         "lineId": 8,
         "motVedette": "abasement",
         "nbSyll": 3,
         "origin": "F.",
         "pageId": 19,
         "pron": "ăbāʹſ_e_ment",
         "remarques": "nan",
         "sampa": "nan",
         "warning": "nan",
         "word": "nan"
        },
        {
         "POS": "n.",
         "_deepnote_index_column": 10,
         "ipa": "nan",
         "lineId": 12,
         "motVedette": "abbess",
         "nbSyll": 2,
         "origin": "nan",
         "pageId": 19,
         "pron": "ăʹbbĕſs",
         "remarques": "nan",
         "sampa": "nan",
         "warning": "nan",
         "word": "nan"
        },
        {
         "POS": "n.",
         "_deepnote_index_column": 18,
         "ipa": "nan",
         "lineId": 20,
         "motVedette": "abetment",
         "nbSyll": 3,
         "origin": "nan",
         "pageId": 19,
         "pron": "ăbĕʹtment",
         "remarques": "nan",
         "sampa": "nan",
         "warning": "nan",
         "word": "nan"
        },
        {
         "POS": "n.",
         "_deepnote_index_column": 19,
         "ipa": "nan",
         "lineId": 21,
         "motVedette": "abettor",
         "nbSyll": 3,
         "origin": "nan",
         "pageId": 19,
         "pron": "ăbĕʹttor",
         "remarques": "nan",
         "sampa": "nan",
         "warning": "nan",
         "word": "nan"
        },
        {
         "POS": "n.",
         "_deepnote_index_column": 26,
         "ipa": "nan",
         "lineId": 28,
         "motVedette": "abintestate",
         "nbSyll": 4,
         "origin": "nan",
         "pageId": 19,
         "pron": "ăbĭntĕʹſtāte",
         "remarques": "nan",
         "sampa": "nan",
         "warning": "nan",
         "word": "nan"
        },
        {
         "POS": "n.",
         "_deepnote_index_column": 27,
         "ipa": "nan",
         "lineId": 29,
         "motVedette": "abjuration",
         "nbSyll": 5,
         "origin": "L.",
         "pageId": 19,
         "pron": "ăbjūrāʹtion",
         "remarques": "nan",
         "sampa": "nan",
         "warning": "nan",
         "word": "nan"
        },
        {
         "POS": "v.",
         "_deepnote_index_column": 28,
         "ipa": "nan",
         "lineId": 30,
         "motVedette": "abjure",
         "nbSyll": 2,
         "origin": "L.",
         "pageId": 19,
         "pron": "ăbjūʹre",
         "remarques": "nan",
         "sampa": "nan",
         "warning": "nan",
         "word": "nan"
        }
       ]
      },
      "text/html": [
       "<div>\n",
       "<style scoped>\n",
       "    .dataframe tbody tr th:only-of-type {\n",
       "        vertical-align: middle;\n",
       "    }\n",
       "\n",
       "    .dataframe tbody tr th {\n",
       "        vertical-align: top;\n",
       "    }\n",
       "\n",
       "    .dataframe thead th {\n",
       "        text-align: right;\n",
       "    }\n",
       "</style>\n",
       "<table border=\"1\" class=\"dataframe\">\n",
       "  <thead>\n",
       "    <tr style=\"text-align: right;\">\n",
       "      <th></th>\n",
       "      <th>nbSyll</th>\n",
       "      <th>pron</th>\n",
       "      <th>origin</th>\n",
       "      <th>warning</th>\n",
       "      <th>remarques</th>\n",
       "      <th>POS</th>\n",
       "      <th>lineId</th>\n",
       "      <th>pageId</th>\n",
       "      <th>motVedette</th>\n",
       "      <th>word</th>\n",
       "      <th>sampa</th>\n",
       "      <th>ipa</th>\n",
       "    </tr>\n",
       "  </thead>\n",
       "  <tbody>\n",
       "    <tr>\n",
       "      <th>1</th>\n",
       "      <td>2</td>\n",
       "      <td>ăbăʹft</td>\n",
       "      <td>NaN</td>\n",
       "      <td>NaN</td>\n",
       "      <td>NaN</td>\n",
       "      <td>p.</td>\n",
       "      <td>3.0</td>\n",
       "      <td>19</td>\n",
       "      <td>abaft</td>\n",
       "      <td>NaN</td>\n",
       "      <td>NaN</td>\n",
       "      <td>NaN</td>\n",
       "    </tr>\n",
       "    <tr>\n",
       "      <th>2</th>\n",
       "      <td>3</td>\n",
       "      <td>ăbaiʹſănce</td>\n",
       "      <td>F.</td>\n",
       "      <td>NaN</td>\n",
       "      <td>NaN</td>\n",
       "      <td>n.</td>\n",
       "      <td>4.0</td>\n",
       "      <td>19</td>\n",
       "      <td>abaisance</td>\n",
       "      <td>NaN</td>\n",
       "      <td>NaN</td>\n",
       "      <td>NaN</td>\n",
       "    </tr>\n",
       "    <tr>\n",
       "      <th>5</th>\n",
       "      <td>2</td>\n",
       "      <td>ăbāsʹe</td>\n",
       "      <td>F.</td>\n",
       "      <td>NaN</td>\n",
       "      <td>NaN</td>\n",
       "      <td>v.</td>\n",
       "      <td>7.0</td>\n",
       "      <td>19</td>\n",
       "      <td>abase</td>\n",
       "      <td>NaN</td>\n",
       "      <td>NaN</td>\n",
       "      <td>NaN</td>\n",
       "    </tr>\n",
       "    <tr>\n",
       "      <th>6</th>\n",
       "      <td>3</td>\n",
       "      <td>ăbāʹſ_e_ment</td>\n",
       "      <td>F.</td>\n",
       "      <td>NaN</td>\n",
       "      <td>NaN</td>\n",
       "      <td>n.</td>\n",
       "      <td>8.0</td>\n",
       "      <td>19</td>\n",
       "      <td>abasement</td>\n",
       "      <td>NaN</td>\n",
       "      <td>NaN</td>\n",
       "      <td>NaN</td>\n",
       "    </tr>\n",
       "    <tr>\n",
       "      <th>10</th>\n",
       "      <td>2</td>\n",
       "      <td>ăʹbbĕſs</td>\n",
       "      <td>NaN</td>\n",
       "      <td>NaN</td>\n",
       "      <td>NaN</td>\n",
       "      <td>n.</td>\n",
       "      <td>12.0</td>\n",
       "      <td>19</td>\n",
       "      <td>abbess</td>\n",
       "      <td>NaN</td>\n",
       "      <td>NaN</td>\n",
       "      <td>NaN</td>\n",
       "    </tr>\n",
       "    <tr>\n",
       "      <th>...</th>\n",
       "      <td>...</td>\n",
       "      <td>...</td>\n",
       "      <td>...</td>\n",
       "      <td>...</td>\n",
       "      <td>...</td>\n",
       "      <td>...</td>\n",
       "      <td>...</td>\n",
       "      <td>...</td>\n",
       "      <td>...</td>\n",
       "      <td>...</td>\n",
       "      <td>...</td>\n",
       "      <td>...</td>\n",
       "    </tr>\n",
       "    <tr>\n",
       "      <th>15795</th>\n",
       "      <td>4</td>\n",
       "      <td>zōŏʹgrăphy</td>\n",
       "      <td>G.</td>\n",
       "      <td>NaN</td>\n",
       "      <td>NaN</td>\n",
       "      <td>n.</td>\n",
       "      <td>19.0</td>\n",
       "      <td>241</td>\n",
       "      <td>zoography</td>\n",
       "      <td>NaN</td>\n",
       "      <td>NaN</td>\n",
       "      <td>NaN</td>\n",
       "    </tr>\n",
       "    <tr>\n",
       "      <th>15796</th>\n",
       "      <td>4</td>\n",
       "      <td>zōŏʹphytès</td>\n",
       "      <td>G.</td>\n",
       "      <td>NaN</td>\n",
       "      <td>NaN</td>\n",
       "      <td>n.</td>\n",
       "      <td>20.0</td>\n",
       "      <td>241</td>\n",
       "      <td>zoophytes</td>\n",
       "      <td>NaN</td>\n",
       "      <td>NaN</td>\n",
       "      <td>NaN</td>\n",
       "    </tr>\n",
       "    <tr>\n",
       "      <th>15797</th>\n",
       "      <td>4</td>\n",
       "      <td>zōŏʹphŏric</td>\n",
       "      <td>G.</td>\n",
       "      <td>NaN</td>\n",
       "      <td>NaN</td>\n",
       "      <td>n.</td>\n",
       "      <td>21.0</td>\n",
       "      <td>241</td>\n",
       "      <td>zoophoric</td>\n",
       "      <td>NaN</td>\n",
       "      <td>NaN</td>\n",
       "      <td>NaN</td>\n",
       "    </tr>\n",
       "    <tr>\n",
       "      <th>15798</th>\n",
       "      <td>4</td>\n",
       "      <td>zōŏʹtŏmiſt</td>\n",
       "      <td>G.</td>\n",
       "      <td>NaN</td>\n",
       "      <td>NaN</td>\n",
       "      <td>n.</td>\n",
       "      <td>22.0</td>\n",
       "      <td>241</td>\n",
       "      <td>zootomist</td>\n",
       "      <td>NaN</td>\n",
       "      <td>NaN</td>\n",
       "      <td>NaN</td>\n",
       "    </tr>\n",
       "    <tr>\n",
       "      <th>15799</th>\n",
       "      <td>3</td>\n",
       "      <td>zŏʹtĭcā</td>\n",
       "      <td>G.</td>\n",
       "      <td>NaN</td>\n",
       "      <td>NaN</td>\n",
       "      <td>n.</td>\n",
       "      <td>23.0</td>\n",
       "      <td>241</td>\n",
       "      <td>zotica</td>\n",
       "      <td>NaN</td>\n",
       "      <td>NaN</td>\n",
       "      <td>NaN</td>\n",
       "    </tr>\n",
       "  </tbody>\n",
       "</table>\n",
       "<p>5467 rows × 12 columns</p>\n",
       "</div>"
      ],
      "text/plain": [
       "       nbSyll          pron origin warning remarques POS  lineId  pageId  \\\n",
       "1           2        ăbăʹft    NaN     NaN       NaN  p.     3.0      19   \n",
       "2           3    ăbaiʹſănce     F.     NaN       NaN  n.     4.0      19   \n",
       "5           2        ăbāsʹe     F.     NaN       NaN  v.     7.0      19   \n",
       "6           3  ăbāʹſ_e_ment     F.     NaN       NaN  n.     8.0      19   \n",
       "10          2       ăʹbbĕſs    NaN     NaN       NaN  n.    12.0      19   \n",
       "...       ...           ...    ...     ...       ...  ..     ...     ...   \n",
       "15795       4    zōŏʹgrăphy     G.     NaN       NaN  n.    19.0     241   \n",
       "15796       4    zōŏʹphytès     G.     NaN       NaN  n.    20.0     241   \n",
       "15797       4    zōŏʹphŏric     G.     NaN       NaN  n.    21.0     241   \n",
       "15798       4    zōŏʹtŏmiſt     G.     NaN       NaN  n.    22.0     241   \n",
       "15799       3       zŏʹtĭcā     G.     NaN       NaN  n.    23.0     241   \n",
       "\n",
       "      motVedette word sampa  ipa  \n",
       "1          abaft  NaN   NaN  NaN  \n",
       "2      abaisance  NaN   NaN  NaN  \n",
       "5          abase  NaN   NaN  NaN  \n",
       "6      abasement  NaN   NaN  NaN  \n",
       "10        abbess  NaN   NaN  NaN  \n",
       "...          ...  ...   ...  ...  \n",
       "15795  zoography  NaN   NaN  NaN  \n",
       "15796  zoophytes  NaN   NaN  NaN  \n",
       "15797  zoophoric  NaN   NaN  NaN  \n",
       "15798  zootomist  NaN   NaN  NaN  \n",
       "15799     zotica  NaN   NaN  NaN  \n",
       "\n",
       "[5467 rows x 12 columns]"
      ]
     },
     "execution_count": 204,
     "metadata": {},
     "output_type": "execute_result"
    }
   ],
   "source": [
    "dfMerged = dfDicoBuch.merge(dicoBigi, left_on=\"motVedette\", right_on=\"word\", how=\"left\")"
   ]
  },
  {
   "cell_type": "code",
   "execution_count": null,
   "metadata": {
    "cell_id": "379ec71e-a523-43ee-9110-c1ce121ec01e",
    "deepnote_cell_type": "code",
    "tags": []
   },
   "outputs": [],
   "source": [
    "dfMerged.loc[pd.isna(dfMerged[\"ipa\"])]"
   ]
  },
  {
   "cell_type": "markdown",
   "metadata": {
    "cell_id": "5eb89f8f-3911-4d4c-b5b6-ab4c8b1e1acf",
    "deepnote_cell_type": "markdown",
    "tags": []
   },
   "source": [
    "Un peu plus de 5000 mots n'ont pas été trouvés dans le dictionnaire Bigi. Il y a par exemple abaft ou abintestate qui semblent être des mots mal traduits dans le dictionnaire de Buchanan. On propose ainsi d'utiliser une bibliothèque qui permet de trouver l'occurence la plus proche. Exemple ci-dessous avec le mot abase."
   ]
  },
  {
   "cell_type": "code",
   "execution_count": null,
   "metadata": {
    "cell_id": "535a2abc-f665-449f-933a-6d0a16ff16bd",
    "deepnote_cell_type": "code",
    "deepnote_output_heights": [
     21.1875
    ],
    "deepnote_to_be_reexecuted": false,
    "execution_millis": 1465,
    "execution_start": 1643209826908,
    "source_hash": "aad48ba7",
    "tags": []
   },
   "outputs": [
    {
     "data": {
      "text/plain": [
       "['ambase']"
      ]
     },
     "execution_count": 225,
     "metadata": {},
     "output_type": "execute_result"
    }
   ],
   "source": [
    "listWords = list(map(str, list(dicoBigi[\"word\"])))\n",
    "difflib.get_close_matches(\"abase\", listWords, n=1)"
   ]
  },
  {
   "cell_type": "markdown",
   "metadata": {
    "cell_id": "35817ee6-0302-4891-9a9d-92223bcb5ce5",
    "deepnote_cell_type": "markdown",
    "tags": []
   },
   "source": [
    "On créé une nouvelle colonne : closest_word"
   ]
  },
  {
   "cell_type": "code",
   "execution_count": null,
   "metadata": {
    "cell_id": "f2dbedea-2878-40ea-ad3a-7ee8d7bf3683",
    "deepnote_cell_type": "code",
    "deepnote_to_be_reexecuted": false,
    "execution_millis": 31,
    "execution_start": 1643210036339,
    "source_hash": "4b82fb70",
    "tags": []
   },
   "outputs": [],
   "source": [
    "#La fonction get_close_matches retourne l'occurence la plus proche dans le bag of words du dictionnaire bigi\n",
    "#Si le mot est trouvé, il est par conséquent l'occurence la plus proche\n",
    "def closest_word(text):\n",
    "    return difflib.get_close_matches(text, listWords, n=1)"
   ]
  },
  {
   "cell_type": "code",
   "execution_count": null,
   "metadata": {
    "cell_id": "22bb6fba-066c-4d58-b641-3d69a762e1d0",
    "deepnote_cell_type": "code",
    "deepnote_output_heights": [
     611
    ],
    "deepnote_to_be_reexecuted": false,
    "execution_millis": 14221402,
    "execution_start": 1643210037160,
    "source_hash": "9c9ab443",
    "tags": []
   },
   "outputs": [],
   "source": [
    "dfDicoBuch['closestWord'] = dfDicoBuch.apply(lambda x: closest_word(x['motVedette']),1)"
   ]
  },
  {
   "cell_type": "markdown",
   "metadata": {
    "cell_id": "26b2ed58-3fc4-49f6-8688-c1dfaae8a89f",
    "deepnote_cell_type": "markdown",
    "tags": []
   },
   "source": [
    "Pour la suite de l'exo, on remplace la colonne motVedette par ces nouvelles valeurs puis on supprimer closestWord."
   ]
  },
  {
   "cell_type": "code",
   "execution_count": null,
   "metadata": {
    "cell_id": "fe0d0800-f682-408c-839f-4e5a564dafbf",
    "deepnote_cell_type": "code",
    "tags": []
   },
   "outputs": [],
   "source": [
    "dfDicoBuch[\"motVedette\"] = df[\"closestWord\"]\n",
    "df.drop(\"closest_word\")"
   ]
  },
  {
   "cell_type": "markdown",
   "metadata": {
    "cell_id": "d91f1751-ab5d-46f2-b4fd-080ed72dd674",
    "deepnote_cell_type": "markdown",
    "tags": []
   },
   "source": [
    "On peut ainsi ré-effectuer le merge sur cette colonne"
   ]
  },
  {
   "cell_type": "code",
   "execution_count": null,
   "metadata": {
    "cell_id": "ed45e0d4-f5bc-40ee-8fa6-449a8cd8d019",
    "deepnote_cell_type": "code",
    "tags": []
   },
   "outputs": [],
   "source": [
    "dfMerged = dfDicoBuch.merge(dicoBigi, left_on=\"closestWord\", right_on=\"word\", how=\"left\")"
   ]
  },
  {
   "cell_type": "markdown",
   "metadata": {
    "cell_id": "846bd755-3404-4d86-a98e-edad8d9802fe",
    "deepnote_cell_type": "markdown",
    "tags": []
   },
   "source": [
    "On enregistre ce dataframe"
   ]
  },
  {
   "cell_type": "code",
   "execution_count": null,
   "metadata": {
    "cell_id": "1499ac9e-0562-45b3-bb01-1b86cc6da94f",
    "deepnote_cell_type": "code",
    "deepnote_output_heights": [
     611
    ],
    "deepnote_to_be_reexecuted": false,
    "execution_millis": 42,
    "execution_start": 1643209524997,
    "source_hash": "1430ebe1",
    "tags": []
   },
   "outputs": [
    {
     "ename": "AttributeError",
     "evalue": "'list' object has no attribute 'astype'",
     "output_type": "error",
     "traceback": [
      "\u001b[0;31m---------------------------------------------------------------------------\u001b[0m",
      "\u001b[0;31mAttributeError\u001b[0m                            Traceback (most recent call last)",
      "\u001b[0;32m<ipython-input-212-c32f3a8ac869>\u001b[0m in \u001b[0;36m<module>\u001b[0;34m\u001b[0m\n\u001b[0;32m----> 1\u001b[0;31m \u001b[0mlist\u001b[0m\u001b[0;34m(\u001b[0m\u001b[0mdicoBigi\u001b[0m\u001b[0;34m[\u001b[0m\u001b[0;34m\"word\"\u001b[0m\u001b[0;34m]\u001b[0m\u001b[0;34m)\u001b[0m\u001b[0;34m.\u001b[0m\u001b[0mastype\u001b[0m\u001b[0;34m(\u001b[0m\u001b[0mstr\u001b[0m\u001b[0;34m)\u001b[0m\u001b[0;34m\u001b[0m\u001b[0;34m\u001b[0m\u001b[0m\n\u001b[0m",
      "\u001b[0;31mAttributeError\u001b[0m: 'list' object has no attribute 'astype'"
     ]
    }
   ],
   "source": [
    "dfMerged.to_csv(\"BuchananRich.csv\", sep=\";\",encoding=\"utf8\",index=False)"
   ]
  },
  {
   "cell_type": "markdown",
   "metadata": {
    "cell_id": "bc8d7e79-2cf7-48dd-8f70-87d33b715adf",
    "deepnote_cell_type": "markdown",
    "tags": []
   },
   "source": []
  },
  {
   "cell_type": "markdown",
   "metadata": {
    "created_in_deepnote_cell": true,
    "deepnote_cell_type": "markdown",
    "tags": []
   },
   "source": [
    "<a style='text-decoration:none;line-height:16px;display:flex;color:#5B5B62;padding:10px;justify-content:end;' href='https://deepnote.com?utm_source=created-in-deepnote-cell&projectId=28a13d76-245b-4e36-8dd1-db1382e81cfa' target=\"_blank\">\n",
    "<img alt='Created in deepnote.com' style='display:inline;max-height:16px;margin:0px;margin-right:7.5px;' src='data:image/svg+xml;base64,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' > </img>\n",
    "Created in <span style='font-weight:600;margin-left:4px;'>Deepnote</span></a>"
   ]
  }
 ],
 "metadata": {
  "deepnote": {
   "is_reactive": false
  },
  "deepnote_execution_queue": [],
  "deepnote_notebook_id": "770b8e9f-dccf-4777-8f83-17076bfde32f",
  "kernelspec": {
   "display_name": "Python 3 (ipykernel)",
   "language": "python",
   "name": "python3"
  },
  "language_info": {
   "codemirror_mode": {
    "name": "ipython",
    "version": 3
   },
   "file_extension": ".py",
   "mimetype": "text/x-python",
   "name": "python",
   "nbconvert_exporter": "python",
   "pygments_lexer": "ipython3",
   "version": "3.8.11"
  }
 },
 "nbformat": 4,
 "nbformat_minor": 2
}
