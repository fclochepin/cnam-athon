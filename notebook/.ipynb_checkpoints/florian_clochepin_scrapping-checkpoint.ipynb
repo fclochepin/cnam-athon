{
 "cells": [
  {
   "cell_type": "code",
   "execution_count": 1,
   "metadata": {
    "cell_id": "ad0538a9-d9c3-46ac-bbd3-4a037acded35",
    "deepnote_cell_type": "code",
    "deepnote_to_be_reexecuted": false,
    "execution_millis": 366,
    "execution_start": 1643200713561,
    "source_hash": "ca103765",
    "tags": []
   },
   "outputs": [],
   "source": [
    "import requests \n",
    "from bs4 import BeautifulSoup \n",
    "import pandas as pd"
   ]
  },
  {
   "cell_type": "code",
   "execution_count": 2,
   "metadata": {
    "cell_id": "9e0d3d7e-b19a-4d60-9c3e-e59ae36bdf49",
    "deepnote_cell_type": "code",
    "deepnote_to_be_reexecuted": false,
    "execution_millis": 2,
    "execution_start": 1643203453990,
    "source_hash": "5539e38f",
    "tags": []
   },
   "outputs": [],
   "source": [
    "#Fonction qui sera appelée pour chaque éléments récupérés\n",
    "def transform(x):\n",
    "    #Si c'est une POS, on retourne la valeur textuelle de la balise\n",
    "    if x.attrs[\"class\"][0] == \"tag_wordtype\": return x.text[0] + \".\"\n",
    "    #Si c'est un word, on retourne la valeur textuelle de la balise\n",
    "    if x.attrs[\"class\"][0] == \"dictLink\": return x.text\n",
    "    #Si c'est un audio, on va récupérer toutes les valeurs dans un dict\n",
    "    if x.attrs[\"class\"][0] == \"audio\": \n",
    "        #On créé un dictionnaire qui contiendra en clé la langue et en valeur le lien mp3\n",
    "        dictResult = {}\n",
    "        #Traitement textuel pour récupérer le lien du mp3\n",
    "        value = x.attrs[\"onclick\"].split(\",\")[1:]\n",
    "        value[-1] = value[-1][:-2]\n",
    "        for i in range(0, len(value), 2):\n",
    "            dictResult[value[i+1][1:-1]] = \"https://www.linguee.fr/mp3/\" + value[i][1:-1] + \".mp3\"\n",
    "        return dictResult"
   ]
  },
  {
   "cell_type": "code",
   "execution_count": 3,
   "metadata": {
    "cell_id": "e045d992-7adf-4254-a497-8b6e96b45907",
    "deepnote_cell_type": "code",
    "deepnote_to_be_reexecuted": false,
    "execution_millis": 0,
    "execution_start": 1643203455368,
    "source_hash": "3ce1e4ba",
    "tags": []
   },
   "outputs": [],
   "source": [
    "def getWord(word):\n",
    "    listAllWords = []\n",
    "    #On effectue la requête sur le site\n",
    "    response = requests.get(\"https://www.linguee.fr/anglais-francais/traduction/\" + word + \".html\") \n",
    "    soup = BeautifulSoup(response.text,'html.parser')\n",
    "    soupListh2 = soup.findAll('h2',{\"class\":\"lemma_desc\"})\n",
    "    #Pour tous les élements h2   \n",
    "    for h2 in soupListh2:\n",
    "        #On récupère tous les éléments de type lien et du wordType\n",
    "        link = h2.findAll(\"a\")\n",
    "        pos = h2.findAll('span', {\"class\": \"tag_wordtype\"})\n",
    "        link = link + pos\n",
    "        if len(link) >= 3:\n",
    "            #On applique la transformation pour récupèrer les valeurs propres\n",
    "            listWord = list(map(lambda x: transform(x), link))\n",
    "            listAllWords.append([i for i in listWord if i])\n",
    "    #On retourne un dataframe\n",
    "    return pd.DataFrame(listAllWords, columns =['Word', 'Sound', 'Pos'])"
   ]
  },
  {
   "cell_type": "code",
   "execution_count": 4,
   "metadata": {
    "cell_id": "2c8e461d-f897-4b31-9678-b431883d8b81",
    "deepnote_cell_type": "code",
    "deepnote_output_heights": [
     232.25,
     117.125
    ],
    "deepnote_to_be_reexecuted": false,
    "execution_millis": 684,
    "execution_start": 1643203456950,
    "source_hash": "ee953baf",
    "tags": []
   },
   "outputs": [
    {
     "data": {
      "text/html": [
       "<div>\n",
       "<style scoped>\n",
       "    .dataframe tbody tr th:only-of-type {\n",
       "        vertical-align: middle;\n",
       "    }\n",
       "\n",
       "    .dataframe tbody tr th {\n",
       "        vertical-align: top;\n",
       "    }\n",
       "\n",
       "    .dataframe thead th {\n",
       "        text-align: right;\n",
       "    }\n",
       "</style>\n",
       "<table border=\"1\" class=\"dataframe\">\n",
       "  <thead>\n",
       "    <tr style=\"text-align: right;\">\n",
       "      <th></th>\n",
       "      <th>Word</th>\n",
       "      <th>Sound</th>\n",
       "      <th>Pos</th>\n",
       "    </tr>\n",
       "  </thead>\n",
       "  <tbody>\n",
       "  </tbody>\n",
       "</table>\n",
       "</div>"
      ],
      "text/plain": [
       "Empty DataFrame\n",
       "Columns: [Word, Sound, Pos]\n",
       "Index: []"
      ]
     },
     "execution_count": 4,
     "metadata": {},
     "output_type": "execute_result"
    }
   ],
   "source": [
    "getWord(\"beat\")"
   ]
  }
 ],
 "metadata": {
  "deepnote": {
   "is_reactive": false
  },
  "deepnote_execution_queue": [],
  "deepnote_notebook_id": "111b9154-9ec7-445b-91fc-3f95b10d2ba5",
  "kernelspec": {
   "display_name": "Python 3",
   "language": "python",
   "name": "python3"
  },
  "language_info": {
   "codemirror_mode": {
    "name": "ipython",
    "version": 3
   },
   "file_extension": ".py",
   "mimetype": "text/x-python",
   "name": "python",
   "nbconvert_exporter": "python",
   "pygments_lexer": "ipython3",
   "version": "3.8.5"
  }
 },
 "nbformat": 4,
 "nbformat_minor": 2
}
