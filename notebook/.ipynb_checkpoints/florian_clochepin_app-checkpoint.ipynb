{
 "cells": [
  {
   "cell_type": "markdown",
   "id": "prescribed-column",
   "metadata": {},
   "source": [
    "# DiCoco"
   ]
  },
  {
   "cell_type": "markdown",
   "id": "completed-filing",
   "metadata": {},
   "source": [
    "Florian Clochepin"
   ]
  },
  {
   "cell_type": "code",
   "execution_count": 9,
   "id": "bibliographic-jurisdiction",
   "metadata": {},
   "outputs": [],
   "source": [
    "# import des différentes librairies\n",
    "from IPython import display\n",
    "import ipywidgets as widgets\n",
    "import pandas as pd\n",
    "from bs4 import BeautifulSoup\n",
    "import requests\n",
    "import matplotlib.pyplot as plt\n",
    "#import librosa\n",
    "#import librosa.display\n",
    "import numpy as np"
   ]
  },
  {
   "cell_type": "code",
   "execution_count": 10,
   "id": "municipal-carnival",
   "metadata": {},
   "outputs": [],
   "source": [
    "df = pd.read_csv(\"../data/dataframe/BuchananRich.csv\" , delimiter=\";\")"
   ]
  },
  {
   "cell_type": "code",
   "execution_count": 11,
   "id": "interior-assumption",
   "metadata": {},
   "outputs": [],
   "source": [
    "#Création des boutons de filtre\n",
    "filterHwd = widgets.Text(\n",
    "       description='Word : ',\n",
    "       layout={'width': '200px'} )\n",
    "filterIPA = widgets.Text(\n",
    "       description='IPA : ',\n",
    "       layout={'width': '200px'} )\n",
    "slider = widgets.IntSlider(min=1,max=10,layout={'width': '200px'}) "
   ]
  },
  {
   "cell_type": "code",
   "execution_count": 12,
   "id": "legitimate-priority",
   "metadata": {},
   "outputs": [],
   "source": [
    "#Fonctions permettant de récupérer les boutons de filtre et de modifier la valeur\n",
    "def getFilterHwd(value):\n",
    "    filterHwd.value = value\n",
    "    return filterHwd\n",
    "\n",
    "def getFilterIPA(value):\n",
    "    filterIPA.value = value\n",
    "    return filterIPA\n",
    "\n",
    "def getSlider(value):\n",
    "    slider.value = value\n",
    "    return slider"
   ]
  },
  {
   "cell_type": "code",
   "execution_count": 13,
   "id": "defensive-magazine",
   "metadata": {},
   "outputs": [],
   "source": [
    "#Fonction permettant de gérer les boutons de filtre ainsi que le bouton de collect\n",
    "def getFilterHBox(valueHwd=\"\", valueIPA=\"\", valueSlider=3):\n",
    "    bouton = widgets.Button(description=\"Collecter\")\n",
    "    bouton.on_click(on_button_clicked)\n",
    "    return widgets.HBox([getFilterHwd(valueHwd), getFilterIPA(valueIPA), getSlider(valueSlider), bouton])"
   ]
  },
  {
   "cell_type": "code",
   "execution_count": 18,
   "id": "becoming-cholesterol",
   "metadata": {},
   "outputs": [],
   "source": [
    "def on_button_clicked(b):\n",
    "    display.clear_output()\n",
    "    display.display(getFilterHBox(filterHwd.value, filterIPA.value, slider.value))\n",
    "    filteredDF = pd.DataFrame()\n",
    "    if filterHwd.value != \"\":\n",
    "        filteredDF = df[df[\"word\"].str.contains(filterHwd.value,regex=True)]\n",
    "    if filterIPA.value != \"\":\n",
    "        filteredDF = filteredDF[filteredDF[\"IPA\"]].str.contains(filterIPA.value, regex=True)\n",
    "    filteredDF = filteredDF.head(slider.value)\n",
    "    print(filteredDF)"
   ]
  },
  {
   "cell_type": "code",
   "execution_count": 19,
   "id": "found-theory",
   "metadata": {},
   "outputs": [
    {
     "data": {
      "application/vnd.jupyter.widget-view+json": {
       "model_id": "227844afd29441d3b2c3124394dfec29",
       "version_major": 2,
       "version_minor": 0
      },
      "text/plain": [
       "HBox(children=(Text(value='abacus', description='Word : ', layout=Layout(width='200px')), Text(value='', descr…"
      ]
     },
     "metadata": {},
     "output_type": "display_data"
    },
    {
     "name": "stdout",
     "output_type": "stream",
     "text": [
      "   nbSyll     pron origin warning remarques POS  lineId  pageId motVedette  \\\n",
      "0       3  aʹbăcus    NaN     NaN       NaN  n.     2.0      19     abacus   \n",
      "\n",
      "     word        sampa     ipa  \n",
      "0  abacus  { b @ k @ s  æbəkəs  \n"
     ]
    }
   ],
   "source": [
    "getFilterHBox(filterHwd.value)"
   ]
  }
 ],
 "metadata": {
  "kernelspec": {
   "display_name": "Python 3",
   "language": "python",
   "name": "python3"
  },
  "language_info": {
   "codemirror_mode": {
    "name": "ipython",
    "version": 3
   },
   "file_extension": ".py",
   "mimetype": "text/x-python",
   "name": "python",
   "nbconvert_exporter": "python",
   "pygments_lexer": "ipython3",
   "version": "3.9.1"
  }
 },
 "nbformat": 4,
 "nbformat_minor": 5
}
