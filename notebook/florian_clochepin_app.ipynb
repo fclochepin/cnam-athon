{
 "cells": [
  {
   "cell_type": "markdown",
   "id": "prescribed-column",
   "metadata": {},
   "source": [
    "# DiCoco"
   ]
  },
  {
   "cell_type": "markdown",
   "id": "completed-filing",
   "metadata": {},
   "source": [
    "Florian Clochepin"
   ]
  },
  {
   "cell_type": "code",
   "execution_count": 94,
   "id": "bibliographic-jurisdiction",
   "metadata": {},
   "outputs": [],
   "source": [
    "# import des différentes librairies\n",
    "from IPython import display\n",
    "import ipywidgets as widgets\n",
    "import pandas as pd\n",
    "from bs4 import BeautifulSoup\n",
    "import requests\n",
    "import matplotlib.pyplot as plt\n",
    "import librosa\n",
    "import librosa.display\n",
    "import numpy as np"
   ]
  },
  {
   "cell_type": "code",
   "execution_count": 95,
   "id": "municipal-carnival",
   "metadata": {},
   "outputs": [],
   "source": [
    "df = pd.read_csv(\"test_data.csv\" , delimiter=\";\")"
   ]
  },
  {
   "cell_type": "code",
   "execution_count": 96,
   "id": "decreased-booking",
   "metadata": {},
   "outputs": [],
   "source": [
    "df = df[:4]"
   ]
  },
  {
   "cell_type": "code",
   "execution_count": 97,
   "id": "interior-assumption",
   "metadata": {},
   "outputs": [],
   "source": [
    "#Création des boutons de filtre\n",
    "filterHwd = widgets.Text(\n",
    "       description='Word : ',\n",
    "       layout={'width': '200px'} )\n",
    "filterIPA = widgets.Text(\n",
    "       description='IPA : ',\n",
    "       layout={'width': '200px'} )\n",
    "slider = widgets.IntSlider(min=1,max=10,layout={'width': '200px'}) "
   ]
  },
  {
   "cell_type": "code",
   "execution_count": 98,
   "id": "legitimate-priority",
   "metadata": {},
   "outputs": [],
   "source": [
    "#Fonctions permettant de récupérer les boutons de filtre et de modifier la valeur\n",
    "def getFilterHwd(value):\n",
    "    filterHwd.value = value\n",
    "    return filterHwd\n",
    "\n",
    "def getFilterIPA(value):\n",
    "    filterIPA.value = value\n",
    "    return filterIPA\n",
    "\n",
    "def getSlider(value):\n",
    "    slider.value = value\n",
    "    return slider"
   ]
  },
  {
   "cell_type": "code",
   "execution_count": 99,
   "id": "defensive-magazine",
   "metadata": {},
   "outputs": [],
   "source": [
    "#Fonction permettant de gérer les boutons de filtre ainsi que le bouton de collect\n",
    "def getFilterHBox(valueHwd=\"\", valueIPA=\"\", valueSlider=3):\n",
    "    bouton = widgets.Button(description=\"Collecter\")\n",
    "    bouton.on_click(on_button_clicked)\n",
    "    return widgets.HBox([getFilterHwd(valueHwd), getFilterIPA(valueIPA), getSlider(valueSlider), bouton])"
   ]
  },
  {
   "cell_type": "code",
   "execution_count": 100,
   "id": "becoming-cholesterol",
   "metadata": {},
   "outputs": [],
   "source": [
    "def on_button_clicked(b):\n",
    "    display.clear_output()\n",
    "    display.display(getFilterHBox(filterHwd.value, filterIPA.value, slider.value))\n",
    "    if filterHwd.value != \"\":\n",
    "        filteredDF = df[df[\"word\"].str.contains(filterHwd.value,regex=True)]\n",
    "    if filterIPA.value != \"\":\n",
    "        filteredDF = filteredDF[filteredDF[\"IPA\"]].str.contains(filterIPA.value, regex=True)\n",
    "    \n",
    "    print(filteredDF)"
   ]
  },
  {
   "cell_type": "code",
   "execution_count": 101,
   "id": "found-theory",
   "metadata": {},
   "outputs": [
    {
     "data": {
      "application/vnd.jupyter.widget-view+json": {
       "model_id": "958d13e648964cc9b12cf0d1b8df17a2",
       "version_major": 2,
       "version_minor": 0
      },
      "text/plain": [
       "HBox(children=(Text(value='ab', description='Word : ', layout=Layout(width='200px')), Text(value='', descripti…"
      ]
     },
     "metadata": {},
     "output_type": "display_data"
    },
    {
     "name": "stdout",
     "output_type": "stream",
     "text": [
      "   nbSyll        pron origin  warning  remarques POS  lineId  pageId  \\\n",
      "0       3     aʹbăcus    NaN      NaN        NaN  n.     2.0      19   \n",
      "1       2      ăbăʹft    NaN      NaN        NaN  p.     3.0      19   \n",
      "2       3  ăbaiʹſănce     F.      NaN        NaN  n.     4.0      19   \n",
      "3       3    ābăʹndon     F.      NaN        NaN  v.     5.0      19   \n",
      "\n",
      "         word  \n",
      "0      abacus  \n",
      "1       abaft  \n",
      "2  abaisement  \n",
      "3     abandon  \n"
     ]
    }
   ],
   "source": [
    "getFilterHBox(filterHwd.value)"
   ]
  }
 ],
 "metadata": {
  "kernelspec": {
   "display_name": "Python 3",
   "language": "python",
   "name": "python3"
  },
  "language_info": {
   "codemirror_mode": {
    "name": "ipython",
    "version": 3
   },
   "file_extension": ".py",
   "mimetype": "text/x-python",
   "name": "python",
   "nbconvert_exporter": "python",
   "pygments_lexer": "ipython3",
   "version": "3.9.1"
  }
 },
 "nbformat": 4,
 "nbformat_minor": 5
}
