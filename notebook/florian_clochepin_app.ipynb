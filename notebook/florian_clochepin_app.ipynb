{
 "cells": [
  {
   "cell_type": "markdown",
   "id": "prescribed-column",
   "metadata": {},
   "source": [
    "# DiCoco"
   ]
  },
  {
   "cell_type": "markdown",
   "id": "completed-filing",
   "metadata": {},
   "source": [
    "Florian Clochepin"
   ]
  },
  {
   "cell_type": "code",
   "execution_count": 36,
   "id": "bibliographic-jurisdiction",
   "metadata": {},
   "outputs": [],
   "source": [
    "# import des différentes librairies\n",
    "from IPython.display import display, clear_output, HTML, Markdown \n",
    "import ipywidgets as widgets\n",
    "import pandas as pd\n",
    "from bs4 import BeautifulSoup\n",
    "import requests\n",
    "import matplotlib.pyplot as plt\n",
    "import numpy as np"
   ]
  },
  {
   "cell_type": "code",
   "execution_count": 10,
   "id": "municipal-carnival",
   "metadata": {},
   "outputs": [],
   "source": [
    "df = pd.read_csv(\"../data/dataframe/BuchananRich.csv\" , delimiter=\";\")"
   ]
  },
  {
   "cell_type": "code",
   "execution_count": 11,
   "id": "interior-assumption",
   "metadata": {},
   "outputs": [],
   "source": [
    "#Création des boutons de filtre\n",
    "filterHwd = widgets.Text(\n",
    "       description='Word : ',\n",
    "       layout={'width': '200px'} )\n",
    "filterIPA = widgets.Text(\n",
    "       description='IPA : ',\n",
    "       layout={'width': '200px'} )\n",
    "slider = widgets.IntSlider(min=1,max=10,layout={'width': '200px'}) \n",
    "bouton = widgets.Button(description=\"Collecter\")\n",
    "bouton.on_click(on_button_clicked)"
   ]
  },
  {
   "cell_type": "code",
   "execution_count": 12,
   "id": "legitimate-priority",
   "metadata": {},
   "outputs": [],
   "source": [
    "#Fonctions permettant de récupérer les boutons de filtre et de modifier la valeur\n",
    "def getFilterHwd(value):\n",
    "    filterHwd.value = value\n",
    "    return filterHwd\n",
    "\n",
    "def getFilterIPA(value):\n",
    "    filterIPA.value = value\n",
    "    return filterIPA\n",
    "\n",
    "def getSlider(value):\n",
    "    slider.value = value\n",
    "    return slider"
   ]
  },
  {
   "cell_type": "code",
   "execution_count": 13,
   "id": "defensive-magazine",
   "metadata": {},
   "outputs": [],
   "source": [
    "#Fonction permettant de gérer les boutons de filtre ainsi que le bouton de collect\n",
    "def getFilterHBox(valueHwd=\"\", valueIPA=\"\", valueSlider=3):\n",
    "    return widgets.HBox([getFilterHwd(valueHwd), getFilterIPA(valueIPA), getSlider(valueSlider), bouton])"
   ]
  },
  {
   "cell_type": "code",
   "execution_count": 47,
   "id": "exempt-story",
   "metadata": {},
   "outputs": [],
   "source": [
    "def transformHTML(row):\n",
    "    content = \"<tr>\"\n",
    "    content += \"<td>\" + row[\"motVedette\"] + \"</td>\"\n",
    "    content += \"</tr>\"\n",
    "    return content"
   ]
  },
  {
   "cell_type": "code",
   "execution_count": 53,
   "id": "becoming-cholesterol",
   "metadata": {},
   "outputs": [],
   "source": [
    "out1 = widgets.Output()\n",
    "def on_button_clicked(b):\n",
    "    clear_output()\n",
    "    #display(getFilterHBox(filterHwd.value, filterIPA.value, slider.value))\n",
    "    filteredDF = pd.DataFrame()\n",
    "    if filterHwd.value != \"\":\n",
    "        filteredDF = df[df[\"word\"].str.contains(filterHwd.value,regex=True)]\n",
    "    if filterIPA.value != \"\":\n",
    "        filteredDF = filteredDF[filteredDF[\"IPA\"]].str.contains(filterIPA.value, regex=True)\n",
    "    filteredDF = filteredDF.head(slider.value)\n",
    "    for eachRow in filteredDF:\n",
    "        print(eachRow)\n",
    "    filteredDF[\"html\"] = filteredDF.apply(lambda x: transformHTML(x),1)\n",
    "    print(\"\".join(list(filteredDF['html'])))\n",
    "    #print(filteredDF)"
   ]
  },
  {
   "cell_type": "code",
   "execution_count": 54,
   "id": "found-theory",
   "metadata": {},
   "outputs": [
    {
     "name": "stdout",
     "output_type": "stream",
     "text": [
      "nbSyll\n",
      "pron\n",
      "origin\n",
      "warning\n",
      "remarques\n",
      "POS\n",
      "lineId\n",
      "pageId\n",
      "motVedette\n",
      "word\n",
      "sampa\n",
      "ipa\n",
      "<tr><td>abacus</td></tr>\n"
     ]
    }
   ],
   "source": [
    "getFilterHBox(filterHwd.value)"
   ]
  }
 ],
 "metadata": {
  "kernelspec": {
   "display_name": "Python 3",
   "language": "python",
   "name": "python3"
  },
  "language_info": {
   "codemirror_mode": {
    "name": "ipython",
    "version": 3
   },
   "file_extension": ".py",
   "mimetype": "text/x-python",
   "name": "python",
   "nbconvert_exporter": "python",
   "pygments_lexer": "ipython3",
   "version": "3.9.1"
  }
 },
 "nbformat": 4,
 "nbformat_minor": 5
}
