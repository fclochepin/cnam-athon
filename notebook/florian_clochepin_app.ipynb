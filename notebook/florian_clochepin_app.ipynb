{
 "cells": [
  {
   "cell_type": "markdown",
   "id": "prescribed-column",
   "metadata": {},
   "source": [
    "# DiCoco"
   ]
  },
  {
   "cell_type": "markdown",
   "id": "completed-filing",
   "metadata": {},
   "source": [
    "Florian Clochepin"
   ]
  },
  {
   "cell_type": "code",
   "execution_count": 1,
   "id": "bibliographic-jurisdiction",
   "metadata": {},
   "outputs": [],
   "source": [
    "# import des différentes librairies\n",
    "from IPython.display import display, clear_output, HTML, Markdown \n",
    "import ipywidgets as widgets\n",
    "import pandas as pd\n",
    "from bs4 import BeautifulSoup\n",
    "import requests\n",
    "import matplotlib.pyplot as plt\n",
    "import numpy as np"
   ]
  },
  {
   "cell_type": "code",
   "execution_count": 2,
   "id": "municipal-carnival",
   "metadata": {},
   "outputs": [],
   "source": [
    "df = pd.read_csv(\"../data/dataframe/BuchananRich.csv\" , delimiter=\";\")"
   ]
  },
  {
   "cell_type": "code",
   "execution_count": 7,
   "id": "interior-assumption",
   "metadata": {},
   "outputs": [],
   "source": [
    "#Création des boutons de filtre\n",
    "filterHwd = widgets.Text(\n",
    "       description='Word : ',\n",
    "       layout={'width': '200px'} )\n",
    "filterIPA = widgets.Text(\n",
    "       description='IPA : ',\n",
    "       layout={'width': '200px'} )\n",
    "slider = widgets.IntSlider(value=3,min=1,max=10,layout={'width': '200px'}) \n",
    "bouton = widgets.Button(description=\"Collecter\")"
   ]
  },
  {
   "cell_type": "code",
   "execution_count": 4,
   "id": "ideal-serial",
   "metadata": {},
   "outputs": [],
   "source": [
    "def transformHTML(row):\n",
    "    content = \"<tr>\"\n",
    "    content += \"<td>\" + row[\"motVedette\"] + \"</td>\"\n",
    "    content += \"<td>\" + str(row[\"nbSyll\"]) + \"</td>\"\n",
    "    content += \"<td>\" + row[\"pron\"] + \"</td>\"\n",
    "    content += \"<td>\" + row[\"sampa\"] + \"</td>\"\n",
    "    content += \"<td>\" + row[\"ipa\"] + \"</td>\"\n",
    "    content += \"</tr>\"\n",
    "    return content"
   ]
  },
  {
   "cell_type": "code",
   "execution_count": 5,
   "id": "becoming-cholesterol",
   "metadata": {},
   "outputs": [],
   "source": [
    "out1 = widgets.Output()\n",
    "\n",
    "def on_button_clicked(_):\n",
    "    filteredDF = df.copy()\n",
    "    if filterHwd.value != \"\":\n",
    "        filteredDF = df[df[\"word\"].str.contains(filterHwd.value,regex=True)]\n",
    "    if filterIPA.value != \"\" and filteredDF.shape[0] >= 1:\n",
    "        filteredDF = filteredDF[filteredDF[\"ipa\"].str.contains(filterIPA.value,regex=True)]\n",
    "    if filteredDF.shape[0] >= 1:\n",
    "        filteredDF = filteredDF.head(slider.value)\n",
    "        filteredDF[\"html\"] = filteredDF.apply(lambda x: transformHTML(x),1)\n",
    "        htmlContent = \"<br><br><table><thead><tr><th>Mot</th><th>Nombre de syllabes</th><th>Prononciation originelle</th><th>Prononciation Sampa</th><th>Prononciation IPA</th></tr></thead>\"\n",
    "        with out1:\n",
    "            clear_output()\n",
    "            display(HTML(htmlContent + '<tbody>' + \"\".join(list(filteredDF['html'])) + '</tbody></table>'))\n",
    "    else:\n",
    "        with out1:\n",
    "            clear_output()\n",
    "            display(HTML(\"<br><p>Aucune correspondance n'a été trouvée</p>\"))\n",
    "bouton.on_click(on_button_clicked)"
   ]
  },
  {
   "cell_type": "code",
   "execution_count": 6,
   "id": "found-theory",
   "metadata": {},
   "outputs": [
    {
     "data": {
      "application/vnd.jupyter.widget-view+json": {
       "model_id": "54350f8fdcef4494b887b825b24ce92c",
       "version_major": 2,
       "version_minor": 0
      },
      "text/plain": [
       "VBox(children=(HBox(children=(Text(value='', description='Word : ', layout=Layout(width='200px')), Text(value=…"
      ]
     },
     "metadata": {},
     "output_type": "display_data"
    }
   ],
   "source": [
    "vbFiltres = widgets.HBox([filterHwd, filterIPA, slider, bouton])\n",
    "vbOuts = widgets.VBox([out1])\n",
    "hbAllWidgets = widgets.VBox([vbFiltres, vbOuts])\n",
    "hbAllWidgets"
   ]
  }
 ],
 "metadata": {
  "kernelspec": {
   "display_name": "Python 3",
   "language": "python",
   "name": "python3"
  },
  "language_info": {
   "codemirror_mode": {
    "name": "ipython",
    "version": 3
   },
   "file_extension": ".py",
   "mimetype": "text/x-python",
   "name": "python",
   "nbconvert_exporter": "python",
   "pygments_lexer": "ipython3",
   "version": "3.9.1"
  }
 },
 "nbformat": 4,
 "nbformat_minor": 5
}
