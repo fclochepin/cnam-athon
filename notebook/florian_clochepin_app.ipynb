{
 "cells": [
  {
   "cell_type": "markdown",
   "metadata": {},
   "source": [
    "# DiCoco"
   ]
  },
  {
   "cell_type": "markdown",
   "metadata": {},
   "source": [
    "Florian Clochepin"
   ]
  },
  {
   "cell_type": "code",
   "execution_count": 14,
   "metadata": {},
   "outputs": [],
   "source": [
    "# import des différentes librairies\n",
    "from IPython.display import display, clear_output, HTML, Markdown \n",
    "import ipywidgets as widgets\n",
    "import pandas as pd\n",
    "from bs4 import BeautifulSoup\n",
    "import requests\n",
    "import matplotlib.pyplot as plt\n",
    "import numpy as np\n",
    "from moviepy.editor import AudioFileClip\n",
    "from pylab import specgram, show\n",
    "%run florian_clochepin_scrapping.ipynb import getWord"
   ]
  },
  {
   "cell_type": "code",
   "execution_count": 2,
   "metadata": {},
   "outputs": [],
   "source": [
    "df = pd.read_csv(\"../data/dataframe/BuchananRich.csv\" , delimiter=\";\")"
   ]
  },
  {
   "cell_type": "code",
   "execution_count": 3,
   "metadata": {},
   "outputs": [],
   "source": [
    "#Création des boutons de filtre\n",
    "filterHwd = widgets.Text(\n",
    "       description='Word : ',\n",
    "       layout={'width': '200px'} )\n",
    "filterIPA = widgets.Text(\n",
    "       description='IPA : ',\n",
    "       layout={'width': '200px'} )\n",
    "slider = widgets.IntSlider(value=3,min=1,max=10,layout={'width': '200px'}) \n",
    "bouton = widgets.Button(description=\"Collecter\")"
   ]
  },
  {
   "cell_type": "code",
   "execution_count": 4,
   "metadata": {},
   "outputs": [],
   "source": [
    "def transformHTML(row):\n",
    "    content = \"<tr>\"\n",
    "    content += \"<td>\" + row[\"motVedette\"] + \"</td>\"\n",
    "    content += \"<td>\" + str(row[\"nbSyll\"]) + \"</td>\"\n",
    "    content += \"<td>\" + row[\"POS\"] + \"</td>\"\n",
    "    content += \"<td>\" + row[\"pron\"] + \"</td>\"\n",
    "    content += \"<td>\" + row[\"sampa\"] + \"</td>\"\n",
    "    content += \"<td>\" + row[\"ipa\"] + \"</td>\"\n",
    "    content += \"</tr>\"\n",
    "    return content"
   ]
  },
  {
   "cell_type": "code",
   "execution_count": 5,
   "metadata": {},
   "outputs": [],
   "source": [
    "def getMP3(row):\n",
    "    listReturn = []\n",
    "    tabCorrespondance = getWord(row[\"motVedette\"])\n",
    "    #On vérifie qu'une correspondance est trouvée\n",
    "    if(len(tabCorrespondance)>0):\n",
    "        #Si le tableau retourné n'est pas vide, on conserve la part of speech\n",
    "        for ind in df.index:\n",
    "            if tabCorrespondance[\"Pos\"][ind] == row[\"POS\"]:\n",
    "                #print(tabCorrespondance[\"Sound\"][ind])\n",
    "                if \"anglais américain\" in tabCorrespondance[\"Sound\"][ind].keys():\n",
    "                    listReturn.append(tabCorrespondance[\"Sound\"][ind][\"anglais américain\"])\n",
    "                else:\n",
    "                    listReturn.append(\"Fichier manquant\")\n",
    "                if \"anglais britannique\" in tabCorrespondance[\"Sound\"][ind].keys():\n",
    "                    listReturn.append(tabCorrespondance[\"Sound\"][ind][\"anglais britannique\"])\n",
    "                else:\n",
    "                    listReturn.append(\"Fichier manquant\")\n",
    "                return listReturn\n",
    "            else:\n",
    "                return [\"Fichier manquant\", \"Fichier manquant\"]\n",
    "    else:\n",
    "        return [\"Fichier manquant\", \"Fichier manquant\"]    "
   ]
  },
  {
   "cell_type": "code",
   "execution_count": 19,
   "metadata": {},
   "outputs": [],
   "source": [
    "def transformMP3(row):\n",
    "    content = \"<li><h3>\" + row[\"motVedette\"] + \"</h3>\"\n",
    "    content += row[\"pron\"]\n",
    "    content += \"<br><b>Anglais britannique : </b>\"\n",
    "    if row[\"mp3\"][1] == \"Fichier manquant\":\n",
    "        content += \"Fichier manquant      \"\n",
    "    else:\n",
    "        content += \"<audio controls src='\" + row[\"mp3\"][1] + \"'></audio>\"\n",
    "    content += \"<b>Anglais américain : </b>\"\n",
    "    if row[\"mp3\"][0] == \"Fichier manquant\":\n",
    "        content += \"Fichier manquant\"\n",
    "    else:\n",
    "        content += \"<audio controls src='\" + row[\"mp3\"][0] + \"'></audio>\"\n",
    "    content += \"</li><br><br>\"\n",
    "    return content"
   ]
  },
  {
   "cell_type": "code",
   "execution_count": 20,
   "metadata": {},
   "outputs": [],
   "source": [
    "out1 = widgets.Output()\n",
    "out2 = widgets.Output()\n",
    "\n",
    "def on_button_clicked(_):\n",
    "    filteredDF = df.copy()\n",
    "    if filterHwd.value != \"\":\n",
    "        filteredDF = df[df[\"word\"].str.contains(filterHwd.value,regex=True)]\n",
    "    if filterIPA.value != \"\" and filteredDF.shape[0] >= 1:\n",
    "        filteredDF = filteredDF[filteredDF[\"ipa\"].str.contains(filterIPA.value,regex=True)]\n",
    "    if filteredDF.shape[0] >= 1:\n",
    "        filteredDF = filteredDF.head(slider.value)\n",
    "        filteredDF[\"html\"] = filteredDF.apply(lambda x: transformHTML(x),1)\n",
    "        filteredDF[\"mp3\"] = filteredDF.apply(lambda x: getMP3(x), 1)\n",
    "        filteredDF[\"htmlmp3\"] = filteredDF.apply(lambda x: transformMP3(x), 1)\n",
    "        htmlContent = \"<br><br><table><thead><tr><th>Mot</th><th>Nombre de syllabes</th><th>POS</th><th>Prononciation originelle</th><th>Prononciation Sampa</th><th>Prononciation IPA</th></tr></thead>\"\n",
    "        with out1:\n",
    "            clear_output()\n",
    "            display(HTML(htmlContent + '<tbody>' + \"\".join(list(filteredDF['html'])) + '</tbody></table>'))\n",
    "        with out2:\n",
    "            clear_output()\n",
    "            display(HTML(\"<br><p>Attention, si des fichiers MP3 sont affichés comme manquants, il est probable que Linguee ait bloqué la requête.</p>\"))\n",
    "            display(HTML('<ul>' + \"\".join(list(filteredDF['htmlmp3'])) + '</ul>'))\n",
    "    else:\n",
    "        with out1:\n",
    "            clear_output()\n",
    "            display(HTML(\"<br><p>Aucune correspondance n'a été trouvée</p>\"))\n",
    "        with out2:\n",
    "            clear_output()\n",
    "bouton.on_click(on_button_clicked)"
   ]
  },
  {
   "cell_type": "code",
   "execution_count": 21,
   "metadata": {},
   "outputs": [
    {
     "data": {
      "application/vnd.jupyter.widget-view+json": {
       "model_id": "c126b66165364b3ebb39c26891ee7bb1",
       "version_major": 2,
       "version_minor": 0
      },
      "text/plain": [
       "VBox(children=(HBox(children=(Text(value='test', description='Word : ', layout=Layout(width='200px')), Text(va…"
      ]
     },
     "metadata": {},
     "output_type": "display_data"
    }
   ],
   "source": [
    "vbFiltres = widgets.HBox([filterHwd, filterIPA, slider, bouton])\n",
    "vbOuts = widgets.VBox([out1, out2])\n",
    "hbAllWidgets = widgets.VBox([vbFiltres, vbOuts])\n",
    "hbAllWidgets"
   ]
  }
 ],
 "metadata": {
  "kernelspec": {
   "display_name": "Python 3",
   "language": "python",
   "name": "python3"
  },
  "language_info": {
   "codemirror_mode": {
    "name": "ipython",
    "version": 3
   },
   "file_extension": ".py",
   "mimetype": "text/x-python",
   "name": "python",
   "nbconvert_exporter": "python",
   "pygments_lexer": "ipython3",
   "version": "3.8.5"
  }
 },
 "nbformat": 4,
 "nbformat_minor": 5
}
